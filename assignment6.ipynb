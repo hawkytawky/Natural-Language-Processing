{
 "cells": [
  {
   "cell_type": "markdown",
   "metadata": {},
   "source": [
    "[![Open In Colab](https://colab.research.google.com/assets/colab-badge.svg)](https://colab.research.google.com/github/Humboldt-WI/adams/blob/master/exercises/tut7_RNN_NLP1_teacher.ipynb)"
   ]
  },
  {
   "cell_type": "markdown",
   "metadata": {},
   "source": [
    "# Tutorial 7: Processing words as sequences\n",
    "In this tutorial, we will try to predict the next word in a sentence. This is challenging, as we will see because we choose a word out of a vocabulary, which is commonly large. Hence, the purpose of this tutorial is not to get an accurate model, but rather to show you how this task can be performed. More accurate models require larger samples and computational resources. \n",
    "\n",
    "We cover the following\n",
    "1. Prepare the text data to represent the sequence $[w_1,w_2,w_3,w_4,w_5,w_6]$ into something like $y=w_6$ and $x=[w_1,w_2,w_3,w_4,w_5]$. Because you are now familiar with IMBD dataset, we will use it to create our sequence data.\n",
    "2. Train a feedforward network. \n",
    "3. Train a NN with `SimpleRNN` layer. \n",
    "4. Train a NN with `LSTM` layer.\n",
    "5. Train a NN with `Embedding` and `LSTM` layers.\n",
    "\n",
    "For further examples, please visit the demos in [demos/rnn](https://github.com/Humboldt-WI/adams/tree/master/demos/rnn)."
   ]
  },
  {
   "cell_type": "markdown",
   "metadata": {},
   "source": [
    "## 1. Preprocess IMDB data "
   ]
  },
  {
   "cell_type": "code",
   "execution_count": 1,
   "metadata": {},
   "outputs": [],
   "source": [
    "# Import the required libraries\n",
    "import pandas as pd\n",
    "import numpy as np\n",
    "import tensorflow as tf\n",
    "import string\n",
    "import re\n",
    "from tensorflow.keras import layers\n",
    "from tensorflow.keras.layers.experimental.preprocessing import TextVectorization"
   ]
  },
  {
   "cell_type": "markdown",
   "metadata": {},
   "source": [
    "### Exercise 1\n",
    "Load the IMDB, and use the first 100 reviews as training and the next 20 as validation. We won't be using the sentiment, only the text."
   ]
  },
  {
   "cell_type": "code",
   "execution_count": 3,
   "metadata": {},
   "outputs": [
    {
     "data": {
      "text/plain": [
       "array([\"One of the other reviewers has mentioned that after watching just 1 Oz episode you'll be hooked. They are right, as this is exactly what happened with me.<br /><br />The first thing that struck me about Oz was its brutality and unflinching scenes of violence, which set in right from the word GO. Trust me, this is not a show for the faint hearted or timid. This show pulls no punches with regards to drugs, sex or violence. Its is hardcore, in the classic use of the word.<br /><br />It is called OZ as that is the nickname given to the Oswald Maximum Security State Penitentary. It focuses mainly on Emerald City, an experimental section of the prison where all the cells have glass fronts and face inwards, so privacy is not high on the agenda. Em City is home to many..Aryans, Muslims, gangstas, Latinos, Christians, Italians, Irish and more....so scuffles, death stares, dodgy dealings and shady agreements are never far away.<br /><br />I would say the main appeal of the show is due to the fact that it goes where other shows wouldn't dare. Forget pretty pictures painted for mainstream audiences, forget charm, forget romance...OZ doesn't mess around. The first episode I ever saw struck me as so nasty it was surreal, I couldn't say I was ready for it, but as I watched more, I developed a taste for Oz, and got accustomed to the high levels of graphic violence. Not just violence, but injustice (crooked guards who'll be sold out for a nickel, inmates who'll kill on order and get away with it, well mannered, middle class inmates being turned into prison bitches due to their lack of street skills or prison experience) Watching Oz, you may become comfortable with what is uncomfortable viewing....thats if you can get in touch with your darker side.\",\n",
       "       'A wonderful little production. <br /><br />The filming technique is very unassuming- very old-time-BBC fashion and gives a comforting, and sometimes discomforting, sense of realism to the entire piece. <br /><br />The actors are extremely well chosen- Michael Sheen not only \"has got all the polari\" but he has all the voices down pat too! You can truly see the seamless editing guided by the references to Williams\\' diary entries, not only is it well worth the watching but it is a terrificly written and performed piece. A masterful production about one of the great master\\'s of comedy and his life. <br /><br />The realism really comes home with the little things: the fantasy of the guard which, rather than use the traditional \\'dream\\' techniques remains solid then disappears. It plays on our knowledge and our senses, particularly with the scenes concerning Orton and Halliwell and the sets (particularly of their flat with Halliwell\\'s murals decorating every surface) are terribly well done.'],\n",
       "      dtype=object)"
      ]
     },
     "execution_count": 3,
     "metadata": {},
     "output_type": "execute_result"
    }
   ],
   "source": [
    "# load the data (be sure to provide the correct file path)\n",
    "total_imbd = pd.read_csv(\"IMDB-50K-Movie-Review.csv\", sep=\",\", encoding=\"ISO-8859-1\")\n",
    "text_data = total_imbd['review'][:120].to_numpy()\n",
    "text_data_train = text_data[:100]\n",
    "text_data_val = text_data[100:]\n",
    "text_data_train[:2]"
   ]
  },
  {
   "cell_type": "markdown",
   "metadata": {},
   "source": [
    "### Exercise 2\n",
    "Create `our_standardization` function to convert to lowercase, remove HTML tags, punctation and double spaces (check [tut5_embeddings](https://github.com/Humboldt-WI/adams/blob/master/exercises/tut5_embeddings_teacher.ipynb)). "
   ]
  },
  {
   "cell_type": "code",
   "execution_count": 4,
   "metadata": {},
   "outputs": [],
   "source": [
    "def our_standardization(text_data):\n",
    "  lowercase = tf.strings.lower(text_data) # convert to lowercase\n",
    "  remove_html = tf.strings.regex_replace(lowercase, '<br />', ' ') # remove HTML tags\n",
    "  pattern_remove_punctuation = '[%s]' % re.escape(string.punctuation) # pattern to remove punctuation\n",
    "  remove_punct = tf.strings.regex_replace(remove_html, pattern_remove_punctuation, '') # apply pattern\n",
    "  remove_double_spaces = tf.strings.regex_replace(remove_punct, '\\s+', ' ') # remove double space\n",
    "  return remove_double_spaces"
   ]
  },
  {
   "cell_type": "markdown",
   "metadata": {},
   "source": [
    "### Exercise 3\n",
    "Create `TextVectorization` with `output_mode` integer and without defining the `output_sequence_length`. Use only 100 words as vocabulary (nothing good can be done with 100 words, but the purpose is to illustrate)."
   ]
  },
  {
   "cell_type": "code",
   "execution_count": 5,
   "metadata": {},
   "outputs": [],
   "source": [
    "# Define the size of the vocabulary and the max number of words in a sequence\n",
    "vocab_size = 100\n",
    "# Create a vectorization layer\n",
    "vectorize_layer = TextVectorization(\n",
    "    standardize = our_standardization,\n",
    "    max_tokens = vocab_size )"
   ]
  },
  {
   "cell_type": "markdown",
   "metadata": {},
   "source": [
    "### Exercise 4\n",
    "Adapt the vectorization layer to the text_data."
   ]
  },
  {
   "cell_type": "code",
   "execution_count": 26,
   "metadata": {},
   "outputs": [
    {
     "name": "stdout",
     "output_type": "stream",
     "text": [
      "['', '[UNK]', 'the', 'a', 'and', 'of', 'to', 'is', 'in', 'it']\n"
     ]
    }
   ],
   "source": [
    "# To create the vocabulary, we need to call adapt. The input is only the text\n",
    "vectorize_layer.adapt(text_data)\n",
    "# Check the first 10 words of the vocabulary. It is sorted by frequency \n",
    "vocab = vectorize_layer.get_vocabulary()\n",
    "print(vocab[:10])"
   ]
  },
  {
   "cell_type": "markdown",
   "metadata": {},
   "source": [
    "### Exercise 5\n",
    "Create `transform_text` function to transform the text data into a time serie. The targets are related with their previous 5 words (similar to what we saw in [tut6_LSTM](https://github.com/Humboldt-WI/adams/blob/master/exercises/tut6_LSTM_teacher.ipynb). You can use built-in `timeseries_dataset_from_array` from Keras. "
   ]
  },
  {
   "cell_type": "code",
   "execution_count": 6,
   "metadata": {},
   "outputs": [],
   "source": [
    "def transform_text(data, sequence_length):\n",
    "    delay = sequence_length # the target word is the word after the sequence\n",
    "    batch_size = 1\n",
    "    flag = True\n",
    "    # Generate data\n",
    "    for rev in data:\n",
    "        vec_rev = vectorize_layer(rev) \n",
    "        # Create time series dataset for each review\n",
    "        aux_dataset = tf.keras.preprocessing.timeseries_dataset_from_array(\n",
    "            data = vec_rev[:-delay],\n",
    "            targets = vec_rev[delay:],\n",
    "            sequence_length=sequence_length,\n",
    "            shuffle=False,\n",
    "            batch_size=batch_size)\n",
    "        # Concatenate the time series\n",
    "        for input, target in aux_dataset:\n",
    "            if flag:\n",
    "                X = input\n",
    "                y = target\n",
    "                flag = False\n",
    "            else:     \n",
    "                X = tf.concat([X , input], 0)\n",
    "                y = tf.concat([y, target], 0)\n",
    "    return X, y"
   ]
  },
  {
   "cell_type": "markdown",
   "metadata": {},
   "source": [
    "### Exercise 6\n",
    "Create the training and validation datasets."
   ]
  },
  {
   "cell_type": "code",
   "execution_count": 27,
   "metadata": {},
   "outputs": [],
   "source": [
    "sequence_length = 5 # we use the last 5 words\n",
    "X_train, y_train = transform_text(text_data_train, sequence_length)\n",
    "X_val, y_val = transform_text(text_data_val, sequence_length)"
   ]
  },
  {
   "cell_type": "code",
   "execution_count": 8,
   "metadata": {},
   "outputs": [
    {
     "name": "stdout",
     "output_type": "stream",
     "text": [
      "features: tf.Tensor([ 2 82  1 43  1], shape=(5,), dtype=int64)  target: tf.Tensor(12, shape=(), dtype=int64)\n"
     ]
    }
   ],
   "source": [
    "print(\"features:\", X_train[2],\" target:\", y_train[2])"
   ]
  },
  {
   "cell_type": "code",
   "execution_count": 9,
   "metadata": {},
   "outputs": [
    {
     "data": {
      "text/plain": [
       "<tf.Tensor: shape=(304,), dtype=int64, numpy=\n",
       "array([31,  5,  2, 82,  1, 43,  1, 12,  1,  1, 35,  1,  1,  1,  1, 32,  1,\n",
       "       40, 28,  1, 15, 10,  7,  1, 44,  1, 14, 60,  2, 86,  1, 12,  1, 60,\n",
       "       42,  1, 13, 23,  1,  4,  1,  1,  5,  1, 50,  1,  8,  1, 36,  2,  1,\n",
       "        1,  1, 60, 10,  7, 22,  3,  1, 17,  2,  1,  1, 38,  1, 10,  1,  1,\n",
       "       49,  1, 14,  1,  6,  1,  1, 38,  1, 23,  7,  1,  8,  2,  1,  1,  5,\n",
       "        2,  1,  9,  7,  1,  1, 15, 12,  7,  2,  1,  1,  6,  2,  1,  1,  1,\n",
       "        1,  1,  9,  1,  1, 20,  1,  1, 34,  1,  1,  5,  2,  1, 88, 30,  2,\n",
       "        1, 29,  1,  1,  4,  1,  1, 39,  1,  7, 22,  1, 20,  2,  1,  1,  1,\n",
       "        7,  1,  6,  1,  1,  1,  1,  1,  1,  1,  4,  1,  1,  1,  1,  1,  1,\n",
       "        4,  1,  1, 28, 83,  1,  1, 11, 62,  1,  2,  1,  1,  5,  2,  1,  7,\n",
       "        1,  6,  2,  1, 12,  9,  1, 88, 82,  1,  1,  1,  1,  1,  1,  1, 17,\n",
       "        1,  1,  1,  1,  1,  1,  1,  1,  1,  2, 86,  1, 11,  1,  1,  1, 60,\n",
       "       15, 39,  1,  9, 13,  1, 11,  1,  1, 11, 13,  1, 17,  9, 18, 15, 11,\n",
       "        1, 47, 11,  1,  3,  1, 17,  1,  4,  1,  1,  6,  2,  1,  1,  5,  1,\n",
       "        1, 22, 35,  1, 18,  1,  1,  1,  1, 32,  1, 45, 17,  3,  1,  1,  1,\n",
       "        1, 20,  1,  4, 84,  1, 14,  9, 90,  1,  1,  1,  1,  1,  1, 75,  1,\n",
       "        1,  1,  6, 65,  1,  5,  1,  1, 38,  1,  1,  1,  1, 24,  1,  1,  1,\n",
       "       14, 44,  7,  1,  1, 46, 24,  1, 84,  8,  1, 14,  1,  1,  1])>"
      ]
     },
     "execution_count": 9,
     "metadata": {},
     "output_type": "execute_result"
    }
   ],
   "source": [
    "vectorize_layer(text_data_train[0])"
   ]
  },
  {
   "cell_type": "markdown",
   "metadata": {},
   "source": [
    "### Exercise 7\n",
    "Check the frequency of each token (you can use `tf.unique_with_counts`). What's the problem?"
   ]
  },
  {
   "cell_type": "code",
   "execution_count": 10,
   "metadata": {},
   "outputs": [
    {
     "data": {
      "text/plain": [
       "UniqueWithCounts(y=<tf.Tensor: shape=(99,), dtype=int64, numpy=\n",
       "array([43,  1, 12, 35, 32, 40, 28, 15, 10,  7, 44, 14, 60,  2, 86, 42, 13,\n",
       "       23,  4,  5, 50,  8, 36, 22,  3, 17, 38, 49,  6,  9, 20, 34, 88, 30,\n",
       "       29, 39, 83, 11, 62, 82, 18, 47, 45, 84, 90, 75, 65, 24, 46, 63, 59,\n",
       "       27, 98, 57, 26, 31, 21, 93, 66, 67, 78, 81, 73, 91, 51, 41, 52, 85,\n",
       "       25, 72, 96, 53, 16, 19, 37, 80, 70, 99, 76, 54, 56, 58, 94, 74, 64,\n",
       "       55, 61, 79, 92, 77, 48, 33, 71, 68, 97, 69, 95, 89, 87])>, idx=<tf.Tensor: shape=(21873,), dtype=int32, numpy=array([ 0,  1,  2, ...,  1, 24,  1], dtype=int32)>, count=<tf.Tensor: shape=(99,), dtype=int32, numpy=\n",
       "array([   62, 10944,   233,    75,    94,    70,   100,   163,   224,\n",
       "         399,    64,   171,    43,  1327,    33,    68,   174,   114,\n",
       "         638,   604,    54,   372,    73,   123,   653,   154,    69,\n",
       "          52,   515,   262,   130,    76,    31,    95,    95,    60,\n",
       "          31,   236,    41,    32,   159,    56,    63,    32,    27,\n",
       "          36,    43,   107,    53,    41,    49,   105,    28,    47,\n",
       "          98,    93,   131,    33,    37,    37,    41,    35,    37,\n",
       "          24,    58,    64,    53,    28,   108,    36,    26,    53,\n",
       "         149,   118,    75,    37,    31,    26,    37,    53,    43,\n",
       "          48,    29,    31,    38,    47,    41,    37,    25,    34,\n",
       "          52,    87,    40,    39,    31,    38,    34,    28,    33],\n",
       "      dtype=int32)>)"
      ]
     },
     "execution_count": 10,
     "metadata": {},
     "output_type": "execute_result"
    }
   ],
   "source": [
    "tf.unique_with_counts(y_train)"
   ]
  },
  {
   "cell_type": "markdown",
   "metadata": {},
   "source": [
    "## 2. Feedforward NN\n",
    "### Exercise 8\n",
    "Fit a feedforward network"
   ]
  },
  {
   "cell_type": "code",
   "execution_count": 11,
   "metadata": {},
   "outputs": [
    {
     "name": "stdout",
     "output_type": "stream",
     "text": [
      "Model: \"model\"\n",
      "_________________________________________________________________\n",
      "Layer (type)                 Output Shape              Param #   \n",
      "=================================================================\n",
      "input_1 (InputLayer)         [(None, 5)]               0         \n",
      "_________________________________________________________________\n",
      "tf.one_hot (TFOpLambda)      (None, 5, 100)            0         \n",
      "_________________________________________________________________\n",
      "flatten (Flatten)            (None, 500)               0         \n",
      "_________________________________________________________________\n",
      "dense (Dense)                (None, 32)                16032     \n",
      "_________________________________________________________________\n",
      "dense_1 (Dense)              (None, 100)               3300      \n",
      "=================================================================\n",
      "Total params: 19,332\n",
      "Trainable params: 19,332\n",
      "Non-trainable params: 0\n",
      "_________________________________________________________________\n"
     ]
    }
   ],
   "source": [
    "input = tf.keras.Input(shape=(sequence_length,), dtype=\"int64\") \n",
    "emd = tf.one_hot(input, depth=vocab_size)\n",
    "flat = layers.Flatten()(emd)\n",
    "x = layers.Dense(32)(flat) \n",
    "output = layers.Dense(vocab_size, activation=\"softmax\")(x) \n",
    "model = tf.keras.Model(input, output) \n",
    "\n",
    "model.compile(optimizer=\"rmsprop\",\n",
    "              loss=\"sparse_categorical_crossentropy\",\n",
    "              metrics=[\"accuracy\"])\n",
    "model.summary()"
   ]
  },
  {
   "cell_type": "code",
   "execution_count": 12,
   "metadata": {},
   "outputs": [
    {
     "name": "stdout",
     "output_type": "stream",
     "text": [
      "Epoch 1/10\n",
      "171/171 [==============================] - 2s 6ms/step - loss: 3.7654 - accuracy: 0.4211 - val_loss: 2.6728 - val_accuracy: 0.4963\n",
      "Epoch 2/10\n",
      "171/171 [==============================] - 0s 1ms/step - loss: 2.6237 - accuracy: 0.5048 - val_loss: 2.6259 - val_accuracy: 0.4963\n",
      "Epoch 3/10\n",
      "171/171 [==============================] - 0s 1ms/step - loss: 2.5838 - accuracy: 0.5047 - val_loss: 2.5994 - val_accuracy: 0.4963\n",
      "Epoch 4/10\n",
      "171/171 [==============================] - 0s 1ms/step - loss: 2.5742 - accuracy: 0.4972 - val_loss: 2.5732 - val_accuracy: 0.4963\n",
      "Epoch 5/10\n",
      "171/171 [==============================] - 0s 2ms/step - loss: 2.5489 - accuracy: 0.4956 - val_loss: 2.5470 - val_accuracy: 0.4963\n",
      "Epoch 6/10\n",
      "171/171 [==============================] - 0s 3ms/step - loss: 2.4884 - accuracy: 0.5020 - val_loss: 2.5272 - val_accuracy: 0.4965\n",
      "Epoch 7/10\n",
      "171/171 [==============================] - 1s 3ms/step - loss: 2.4630 - accuracy: 0.4999 - val_loss: 2.5057 - val_accuracy: 0.4965\n",
      "Epoch 8/10\n",
      "171/171 [==============================] - 0s 3ms/step - loss: 2.4556 - accuracy: 0.4936 - val_loss: 2.4902 - val_accuracy: 0.4958\n",
      "Epoch 9/10\n",
      "171/171 [==============================] - 0s 3ms/step - loss: 2.3950 - accuracy: 0.5042 - val_loss: 2.4784 - val_accuracy: 0.4958\n",
      "Epoch 10/10\n",
      "171/171 [==============================] - 0s 2ms/step - loss: 2.4004 - accuracy: 0.5029 - val_loss: 2.4646 - val_accuracy: 0.4960\n"
     ]
    },
    {
     "data": {
      "text/plain": [
       "<tensorflow.python.keras.callbacks.History at 0x7fa4bd8ffe50>"
      ]
     },
     "execution_count": 12,
     "metadata": {},
     "output_type": "execute_result"
    }
   ],
   "source": [
    "model.fit(\n",
    "    X_train, \n",
    "    y_train, \n",
    "    validation_data=(X_val, y_val),\n",
    "    epochs = 10, \n",
    "    batch_size=128) "
   ]
  },
  {
   "cell_type": "code",
   "execution_count": 13,
   "metadata": {},
   "outputs": [
    {
     "data": {
      "text/plain": [
       "1933"
      ]
     },
     "execution_count": 13,
     "metadata": {},
     "output_type": "execute_result"
    }
   ],
   "source": [
    "## Predict\n",
    "np.sum(np.argmax(model.predict(X_val), axis = 1)==y_val.numpy())"
   ]
  },
  {
   "cell_type": "markdown",
   "metadata": {},
   "source": [
    "## 3. SimpleRNN\n",
    "### Exercise 9 \n",
    "Fit a NN with a `SimpleRNN` layer."
   ]
  },
  {
   "cell_type": "code",
   "execution_count": 14,
   "metadata": {},
   "outputs": [
    {
     "name": "stdout",
     "output_type": "stream",
     "text": [
      "Model: \"model_1\"\n",
      "_________________________________________________________________\n",
      "Layer (type)                 Output Shape              Param #   \n",
      "=================================================================\n",
      "input_2 (InputLayer)         [(None, 5)]               0         \n",
      "_________________________________________________________________\n",
      "tf.one_hot_1 (TFOpLambda)    (None, 5, 100)            0         \n",
      "_________________________________________________________________\n",
      "simple_rnn (SimpleRNN)       (None, 32)                4256      \n",
      "_________________________________________________________________\n",
      "dense_2 (Dense)              (None, 100)               3300      \n",
      "=================================================================\n",
      "Total params: 7,556\n",
      "Trainable params: 7,556\n",
      "Non-trainable params: 0\n",
      "_________________________________________________________________\n"
     ]
    }
   ],
   "source": [
    "input = tf.keras.Input(shape=(sequence_length,), dtype=\"int64\") \n",
    "emd = tf.one_hot(input, depth=vocab_size)\n",
    "x = layers.SimpleRNN(32)(emd) \n",
    "output = layers.Dense(vocab_size, activation=\"softmax\")(x) \n",
    "model = tf.keras.Model(input, output) \n",
    "\n",
    "model.compile(optimizer=\"rmsprop\",\n",
    "              loss=\"sparse_categorical_crossentropy\",\n",
    "              metrics=[\"accuracy\"])\n",
    "model.summary()"
   ]
  },
  {
   "cell_type": "code",
   "execution_count": 15,
   "metadata": {},
   "outputs": [
    {
     "name": "stdout",
     "output_type": "stream",
     "text": [
      "Epoch 1/10\n",
      "171/171 [==============================] - 2s 5ms/step - loss: 3.4496 - accuracy: 0.4026 - val_loss: 2.6679 - val_accuracy: 0.4963\n",
      "Epoch 2/10\n",
      "171/171 [==============================] - 1s 3ms/step - loss: 2.6775 - accuracy: 0.4958 - val_loss: 2.6529 - val_accuracy: 0.4963\n",
      "Epoch 3/10\n",
      "171/171 [==============================] - 1s 3ms/step - loss: 2.6498 - accuracy: 0.4992 - val_loss: 2.6270 - val_accuracy: 0.4963\n",
      "Epoch 4/10\n",
      "171/171 [==============================] - 1s 3ms/step - loss: 2.6248 - accuracy: 0.4962 - val_loss: 2.5980 - val_accuracy: 0.4963\n",
      "Epoch 5/10\n",
      "171/171 [==============================] - 1s 3ms/step - loss: 2.6073 - accuracy: 0.4950 - val_loss: 2.5769 - val_accuracy: 0.4963\n",
      "Epoch 6/10\n",
      "171/171 [==============================] - 1s 3ms/step - loss: 2.5412 - accuracy: 0.5044 - val_loss: 2.5565 - val_accuracy: 0.4965\n",
      "Epoch 7/10\n",
      "171/171 [==============================] - 1s 4ms/step - loss: 2.5444 - accuracy: 0.4961 - val_loss: 2.5448 - val_accuracy: 0.4960\n",
      "Epoch 8/10\n",
      "171/171 [==============================] - 1s 4ms/step - loss: 2.5187 - accuracy: 0.4974 - val_loss: 2.5324 - val_accuracy: 0.4960\n",
      "Epoch 9/10\n",
      "171/171 [==============================] - 1s 4ms/step - loss: 2.4909 - accuracy: 0.5040 - val_loss: 2.5151 - val_accuracy: 0.4958\n",
      "Epoch 10/10\n",
      "171/171 [==============================] - 1s 3ms/step - loss: 2.4813 - accuracy: 0.4982 - val_loss: 2.5067 - val_accuracy: 0.4960\n"
     ]
    },
    {
     "data": {
      "text/plain": [
       "<tensorflow.python.keras.callbacks.History at 0x7fa4bde62130>"
      ]
     },
     "execution_count": 15,
     "metadata": {},
     "output_type": "execute_result"
    }
   ],
   "source": [
    "model.fit(\n",
    "    X_train, \n",
    "    y_train, \n",
    "    validation_data=(X_val, y_val),\n",
    "    epochs = 10, \n",
    "    batch_size=128) "
   ]
  },
  {
   "cell_type": "code",
   "execution_count": 16,
   "metadata": {},
   "outputs": [
    {
     "data": {
      "text/plain": [
       "1933"
      ]
     },
     "execution_count": 16,
     "metadata": {},
     "output_type": "execute_result"
    }
   ],
   "source": [
    "## Predict\n",
    "# np.argmax(model.predict(tf.reshape(X_train,(1,-1))))\n",
    "np.sum(np.argmax(model.predict(X_val), axis = 1)==y_val.numpy())"
   ]
  },
  {
   "cell_type": "markdown",
   "metadata": {},
   "source": [
    "## 4. LSTM\n",
    "### Exercise 10\n",
    "Fit a NN with a `LSTM` layer."
   ]
  },
  {
   "cell_type": "code",
   "execution_count": 17,
   "metadata": {},
   "outputs": [
    {
     "name": "stdout",
     "output_type": "stream",
     "text": [
      "Model: \"model_2\"\n",
      "_________________________________________________________________\n",
      "Layer (type)                 Output Shape              Param #   \n",
      "=================================================================\n",
      "input_3 (InputLayer)         [(None, 5)]               0         \n",
      "_________________________________________________________________\n",
      "tf.one_hot_2 (TFOpLambda)    (None, 5, 100)            0         \n",
      "_________________________________________________________________\n",
      "lstm (LSTM)                  (None, 32)                17024     \n",
      "_________________________________________________________________\n",
      "dense_3 (Dense)              (None, 100)               3300      \n",
      "=================================================================\n",
      "Total params: 20,324\n",
      "Trainable params: 20,324\n",
      "Non-trainable params: 0\n",
      "_________________________________________________________________\n"
     ]
    }
   ],
   "source": [
    "input = tf.keras.Input(shape=(sequence_length,), dtype=\"int64\") \n",
    "emd = tf.one_hot(input, depth=vocab_size)\n",
    "x = layers.LSTM(32)(emd) \n",
    "output = layers.Dense(vocab_size, activation=\"softmax\")(x) \n",
    "model = tf.keras.Model(input, output) \n",
    "\n",
    "model.compile(optimizer=\"rmsprop\",\n",
    "              loss=\"sparse_categorical_crossentropy\",\n",
    "              metrics=[\"accuracy\"])\n",
    "model.summary()"
   ]
  },
  {
   "cell_type": "code",
   "execution_count": 18,
   "metadata": {},
   "outputs": [
    {
     "name": "stdout",
     "output_type": "stream",
     "text": [
      "Epoch 1/10\n",
      "171/171 [==============================] - 3s 8ms/step - loss: 3.7041 - accuracy: 0.4585 - val_loss: 2.6704 - val_accuracy: 0.4963\n",
      "Epoch 2/10\n",
      "171/171 [==============================] - 1s 5ms/step - loss: 2.6740 - accuracy: 0.5005 - val_loss: 2.6626 - val_accuracy: 0.4963\n",
      "Epoch 3/10\n",
      "171/171 [==============================] - 1s 6ms/step - loss: 2.6499 - accuracy: 0.5033 - val_loss: 2.6531 - val_accuracy: 0.4963\n",
      "Epoch 4/10\n",
      "171/171 [==============================] - 1s 8ms/step - loss: 2.6436 - accuracy: 0.5023 - val_loss: 2.6445 - val_accuracy: 0.4963\n",
      "Epoch 5/10\n",
      "171/171 [==============================] - 1s 7ms/step - loss: 2.6353 - accuracy: 0.4969 - val_loss: 2.6299 - val_accuracy: 0.4963\n",
      "Epoch 6/10\n",
      "171/171 [==============================] - 1s 6ms/step - loss: 2.6071 - accuracy: 0.5030 - val_loss: 2.6172 - val_accuracy: 0.4963\n",
      "Epoch 7/10\n",
      "171/171 [==============================] - 1s 6ms/step - loss: 2.6262 - accuracy: 0.4935 - val_loss: 2.6021 - val_accuracy: 0.4963\n",
      "Epoch 8/10\n",
      "171/171 [==============================] - 1s 5ms/step - loss: 2.5580 - accuracy: 0.5063 - val_loss: 2.5845 - val_accuracy: 0.4963\n",
      "Epoch 9/10\n",
      "171/171 [==============================] - 1s 6ms/step - loss: 2.5703 - accuracy: 0.5011 - val_loss: 2.5707 - val_accuracy: 0.4963\n",
      "Epoch 10/10\n",
      "171/171 [==============================] - 1s 6ms/step - loss: 2.5473 - accuracy: 0.5028 - val_loss: 2.5574 - val_accuracy: 0.4963\n"
     ]
    },
    {
     "data": {
      "text/plain": [
       "<tensorflow.python.keras.callbacks.History at 0x7fa4bf35c250>"
      ]
     },
     "execution_count": 18,
     "metadata": {},
     "output_type": "execute_result"
    }
   ],
   "source": [
    "model.fit(\n",
    "    X_train, \n",
    "    y_train, \n",
    "    validation_data=(X_val, y_val),\n",
    "    epochs = 10, \n",
    "    batch_size=128) "
   ]
  },
  {
   "cell_type": "code",
   "execution_count": 19,
   "metadata": {},
   "outputs": [
    {
     "data": {
      "text/plain": [
       "1934"
      ]
     },
     "execution_count": 19,
     "metadata": {},
     "output_type": "execute_result"
    }
   ],
   "source": [
    "## Predict\n",
    "np.sum(np.argmax(model.predict(X_val), axis = 1)==y_val.numpy())"
   ]
  },
  {
   "cell_type": "markdown",
   "metadata": {},
   "source": [
    "## 5. Embedding + LSTM\n",
    "### Exercise 11\n",
    "Fit a NN with an `Embedding` and `LSTM` layers."
   ]
  },
  {
   "cell_type": "code",
   "execution_count": 20,
   "metadata": {},
   "outputs": [
    {
     "name": "stdout",
     "output_type": "stream",
     "text": [
      "Model: \"model_3\"\n",
      "_________________________________________________________________\n",
      "Layer (type)                 Output Shape              Param #   \n",
      "=================================================================\n",
      "input_4 (InputLayer)         [(None, 5)]               0         \n",
      "_________________________________________________________________\n",
      "embedding (Embedding)        (None, 5, 16)             1600      \n",
      "_________________________________________________________________\n",
      "lstm_1 (LSTM)                (None, 32)                6272      \n",
      "_________________________________________________________________\n",
      "dense_4 (Dense)              (None, 100)               3300      \n",
      "=================================================================\n",
      "Total params: 11,172\n",
      "Trainable params: 11,172\n",
      "Non-trainable params: 0\n",
      "_________________________________________________________________\n"
     ]
    }
   ],
   "source": [
    "\n",
    "input = tf.keras.Input(shape=(sequence_length,), dtype=\"int64\") \n",
    "emd = layers.Embedding(input_dim=vocab_size, output_dim=16)(input)\n",
    "x = layers.LSTM(32)(emd) \n",
    "output = layers.Dense(vocab_size, activation=\"softmax\")(x) \n",
    "model = tf.keras.Model(input, output) \n",
    "\n",
    "model.compile(optimizer=\"rmsprop\",\n",
    "              loss=\"sparse_categorical_crossentropy\",\n",
    "              metrics=[\"accuracy\"])\n",
    "model.summary()"
   ]
  },
  {
   "cell_type": "code",
   "execution_count": 21,
   "metadata": {},
   "outputs": [
    {
     "name": "stdout",
     "output_type": "stream",
     "text": [
      "Epoch 1/10\n",
      "342/342 [==============================] - 3s 5ms/step - loss: 3.2566 - accuracy: 0.4901 - val_loss: 2.6767 - val_accuracy: 0.4963\n",
      "Epoch 2/10\n",
      "342/342 [==============================] - 2s 5ms/step - loss: 2.6671 - accuracy: 0.5002 - val_loss: 2.6685 - val_accuracy: 0.4963\n",
      "Epoch 3/10\n",
      "342/342 [==============================] - 2s 6ms/step - loss: 2.6751 - accuracy: 0.4978 - val_loss: 2.6552 - val_accuracy: 0.4963\n",
      "Epoch 4/10\n",
      "342/342 [==============================] - 2s 4ms/step - loss: 2.6420 - accuracy: 0.5029 - val_loss: 2.6453 - val_accuracy: 0.4963\n",
      "Epoch 5/10\n",
      "342/342 [==============================] - 1s 4ms/step - loss: 2.6245 - accuracy: 0.5061 - val_loss: 2.6376 - val_accuracy: 0.4963\n",
      "Epoch 6/10\n",
      "342/342 [==============================] - 1s 4ms/step - loss: 2.6475 - accuracy: 0.4961 - val_loss: 2.6220 - val_accuracy: 0.4963\n",
      "Epoch 7/10\n",
      "342/342 [==============================] - 1s 4ms/step - loss: 2.5975 - accuracy: 0.5034 - val_loss: 2.5957 - val_accuracy: 0.4963\n",
      "Epoch 8/10\n",
      "342/342 [==============================] - 1s 4ms/step - loss: 2.6093 - accuracy: 0.4943 - val_loss: 2.5574 - val_accuracy: 0.4963\n",
      "Epoch 9/10\n",
      "342/342 [==============================] - 2s 5ms/step - loss: 2.5484 - accuracy: 0.5010 - val_loss: 2.5300 - val_accuracy: 0.4963\n",
      "Epoch 10/10\n",
      "342/342 [==============================] - 2s 5ms/step - loss: 2.5374 - accuracy: 0.4962 - val_loss: 2.5138 - val_accuracy: 0.4963\n"
     ]
    },
    {
     "data": {
      "text/plain": [
       "<tensorflow.python.keras.callbacks.History at 0x7fa4bf6feaf0>"
      ]
     },
     "execution_count": 21,
     "metadata": {},
     "output_type": "execute_result"
    }
   ],
   "source": [
    "model.fit(\n",
    "    X_train, \n",
    "    y_train, \n",
    "    validation_data=(X_val, y_val),\n",
    "    epochs = 10, \n",
    "    batch_size=64) "
   ]
  },
  {
   "cell_type": "code",
   "execution_count": 22,
   "metadata": {},
   "outputs": [
    {
     "data": {
      "text/plain": [
       "1934"
      ]
     },
     "execution_count": 22,
     "metadata": {},
     "output_type": "execute_result"
    }
   ],
   "source": [
    "## Predict\n",
    "np.sum(np.argmax(model.predict(X_val), axis = 1)==y_val.numpy())"
   ]
  }
 ],
 "metadata": {
  "kernelspec": {
   "display_name": "Python 3",
   "language": "python",
   "name": "python3"
  },
  "language_info": {
   "codemirror_mode": {
    "name": "ipython",
    "version": 3
   },
   "file_extension": ".py",
   "mimetype": "text/x-python",
   "name": "python",
   "nbconvert_exporter": "python",
   "pygments_lexer": "ipython3",
   "version": "3.7.6"
  }
 },
 "nbformat": 4,
 "nbformat_minor": 2
}
